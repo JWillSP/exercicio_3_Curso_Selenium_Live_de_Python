{
 "cells": [
  {
   "cell_type": "code",
   "execution_count": 35,
   "metadata": {},
   "outputs": [],
   "source": [
    "import re\n",
    "import time\n",
    "from selenium import webdriver\n",
    "\n",
    "def clicar_em(text, ele):\n",
    "    ele.find_element_by_link_text(text).click()\n",
    "    time.sleep(2)\n",
    "\n",
    "init_url = r\"C:\\Users\\Public\\Downloads\\geckodriver.exe\"\n",
    "\n",
    "nav = webdriver.Firefox(executable_path=init_url)\n",
    "\n",
    "#exercicio_03.html\n",
    "nav.get('https://selenium.dunossauro.live/exercicio_03.html')\n",
    "\n",
    "time.sleep(2)\n",
    "\n",
    "clicar_em('Começar por aqui', nav)\n",
    "\n",
    "#page_1.html\n",
    "p = nav.find_element_by_xpath('//p[contains(text(),\"=\")]')\n",
    "\n",
    "rtn = eval(p.text.split('=')[0])\n",
    "\n",
    "a_outra = nav.find_element_by_xpath(f'//main//li[not(contains(text(),\"{rtn}\"))]')\n",
    "\n",
    "clicar_em(a_outra.text, a_outra)\n",
    "\n",
    "time.sleep(6)\n",
    "\n",
    "#page_2.html2\n",
    "nav.refresh()\n",
    "\n",
    "time.sleep(10)\n",
    "\n",
    "clicar_em(nav.title, nav)\n",
    "\n",
    "#page_3.html\n",
    "url = nav.current_url\n",
    "\n",
    "path = re.search(r'//.+/(.+)', url).group(1)\n",
    "\n",
    "clicar_em(path,nav)\n",
    "\n",
    "#page_4.html\n",
    "nav.refresh()"
   ]
  }
 ],
 "metadata": {
  "kernelspec": {
   "display_name": "Python 3",
   "language": "python",
   "name": "python3"
  },
  "language_info": {
   "codemirror_mode": {
    "name": "ipython",
    "version": 3
   },
   "file_extension": ".py",
   "mimetype": "text/x-python",
   "name": "python",
   "nbconvert_exporter": "python",
   "pygments_lexer": "ipython3",
   "version": "3.7.3"
  }
 },
 "nbformat": 4,
 "nbformat_minor": 2
}
